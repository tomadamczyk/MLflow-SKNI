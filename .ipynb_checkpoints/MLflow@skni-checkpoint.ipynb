{
 "cells": [
  {
   "cell_type": "markdown",
   "id": "984e5614",
   "metadata": {
    "slideshow": {
     "slide_type": "slide"
    }
   },
   "source": [
    "# MLOps w praktyce @ SKNI\n",
    "\n",
    "## Tomasz Adamczyk\n",
    "\n"
   ]
  },
  {
   "cell_type": "markdown",
   "id": "a416b485",
   "metadata": {},
   "source": [
    "Cześć! W tym notebooku znajdziecie cały kod jaki omówiliśmy na pierwszym spotkaniu MLOps w praktyce 8 grudnia.\n",
    "W razie pytań piszcie maile, coś wymyślimy :)"
   ]
  },
  {
   "cell_type": "markdown",
   "id": "2574434e",
   "metadata": {},
   "source": [
    "# Instalacja MLflow"
   ]
  },
  {
   "cell_type": "markdown",
   "id": "05a3a0b9",
   "metadata": {},
   "source": [
    "Mlflow dostępny jest na Windowsa, macOSa, jak i systemy Linuksowe. Osobiście polecam pobawienie się jakąś dystrybucją linuksa. Idąc w stronę MLOpsową, czy DevOpsową na pewno prędzej, czy później się z nim spotkacie, a i Python jest mniej upierdliwy na linuksach :)\n",
    "\n",
    "Na początek wystaczy maszyna wirtualna. Dobry tutorial jej postawienia znajdziecie na stronie Ubuntu: https://ubuntu.com/tutorials/how-to-run-ubuntu-desktop-on-a-virtual-machine-using-virtualbox#1-overview\n",
    "\n",
    "Niezależnie od systemu na jakim będziecie działać potrzebujecie Pythona. Na Linuksach zainstalowany będzie defaultowo. Na Windowsie trzeba samemu do ogarnąć. Pamiętajcie, że żeby Python był widoczny z konsoli musicie dodać ściężkę do niego do zmiennej środowiskowej PATH. Wszystko wyjaśni ten tutorial: https://www.digitalocean.com/community/tutorials/install-python-windows-10\n",
    "\n",
    "Po zainstalowaniu Pythona już jest z górki. MLflow można pobrać przy użyciu pythonowego pip\n",
    "\n",
    "python -m pip install mlflow\n",
    "\n",
    "Jeśli chcecie mieć także dostęp do \"Model Registry\" musicie postawić lokalną bazę danych. Sqlite w zupełności wystarczy. Do wykonania pracy domowej tego nie potrzeba, ale zachęcam.\n",
    "\n",
    "Dokumentacja MLflow tutaj: https://mlflow.org/docs/latest/quickstart.html#"
   ]
  },
  {
   "cell_type": "markdown",
   "id": "892b750a",
   "metadata": {},
   "source": [
    "# Uruchomienie MLflow"
   ]
  },
  {
   "cell_type": "markdown",
   "id": "08fabd4b",
   "metadata": {},
   "source": [
    "MLflow uruchomicie z poziomu konsoli wpisując: \n",
    "\n",
    "mflow ui\n",
    "\n",
    "lub jeśli macie postawioną bazę:\n",
    "\n",
    "mlflow server --backend-store-uri sqlite:///skni.sqlit\n",
    "\n",
    "gdzie skni.sqlit jest nazwą bazy, z której będziemy korzystać. \n",
    "\n",
    "\n",
    "![](img/1.png)\n",
    "\n",
    "Po przejściu na adres podany po uruchomieniu (0.0.0.0:5000) powinniśmy zastać taki widok.\n",
    "![](img/2.png)\n",
    "\n",
    "# UWAGA DLA WINDOWSA\n",
    "Aby artifacts zapisywały się poprawnie mlflow musi zostać uruchomiony w folderu \"mlruns\". O problemie możecie poczytać tutaj: https://github.com/mlflow/mlflow/issues/3030\n",
    "Na Ubuntu nie spotkałem się z tym problemem."
   ]
  },
  {
   "cell_type": "markdown",
   "id": "fd848b16",
   "metadata": {},
   "source": [
    "# Tracking"
   ]
  },
  {
   "cell_type": "markdown",
   "id": "87f8c3f5",
   "metadata": {},
   "source": [
    "## MLowy hello world\n",
    "Zacznijmy od MLowego \"Hello worlda\". Zaimportujmy jakiś dataset, podzielmy go na zbiór uczący i zbiór testowy, wytrenujmy model i przetestujemy go."
   ]
  },
  {
   "cell_type": "code",
   "execution_count": 39,
   "id": "d39abcee",
   "metadata": {
    "slideshow": {
     "slide_type": "slide"
    }
   },
   "outputs": [
    {
     "data": {
      "text/plain": [
       "{'data': array([[5.1, 3.5, 1.4, 0.2],\n",
       "        [4.9, 3. , 1.4, 0.2],\n",
       "        [4.7, 3.2, 1.3, 0.2],\n",
       "        [4.6, 3.1, 1.5, 0.2],\n",
       "        [5. , 3.6, 1.4, 0.2],\n",
       "        [5.4, 3.9, 1.7, 0.4],\n",
       "        [4.6, 3.4, 1.4, 0.3],\n",
       "        [5. , 3.4, 1.5, 0.2],\n",
       "        [4.4, 2.9, 1.4, 0.2],\n",
       "        [4.9, 3.1, 1.5, 0.1],\n",
       "        [5.4, 3.7, 1.5, 0.2],\n",
       "        [4.8, 3.4, 1.6, 0.2],\n",
       "        [4.8, 3. , 1.4, 0.1],\n",
       "        [4.3, 3. , 1.1, 0.1],\n",
       "        [5.8, 4. , 1.2, 0.2],\n",
       "        [5.7, 4.4, 1.5, 0.4],\n",
       "        [5.4, 3.9, 1.3, 0.4],\n",
       "        [5.1, 3.5, 1.4, 0.3],\n",
       "        [5.7, 3.8, 1.7, 0.3],\n",
       "        [5.1, 3.8, 1.5, 0.3],\n",
       "        [5.4, 3.4, 1.7, 0.2],\n",
       "        [5.1, 3.7, 1.5, 0.4],\n",
       "        [4.6, 3.6, 1. , 0.2],\n",
       "        [5.1, 3.3, 1.7, 0.5],\n",
       "        [4.8, 3.4, 1.9, 0.2],\n",
       "        [5. , 3. , 1.6, 0.2],\n",
       "        [5. , 3.4, 1.6, 0.4],\n",
       "        [5.2, 3.5, 1.5, 0.2],\n",
       "        [5.2, 3.4, 1.4, 0.2],\n",
       "        [4.7, 3.2, 1.6, 0.2],\n",
       "        [4.8, 3.1, 1.6, 0.2],\n",
       "        [5.4, 3.4, 1.5, 0.4],\n",
       "        [5.2, 4.1, 1.5, 0.1],\n",
       "        [5.5, 4.2, 1.4, 0.2],\n",
       "        [4.9, 3.1, 1.5, 0.2],\n",
       "        [5. , 3.2, 1.2, 0.2],\n",
       "        [5.5, 3.5, 1.3, 0.2],\n",
       "        [4.9, 3.6, 1.4, 0.1],\n",
       "        [4.4, 3. , 1.3, 0.2],\n",
       "        [5.1, 3.4, 1.5, 0.2],\n",
       "        [5. , 3.5, 1.3, 0.3],\n",
       "        [4.5, 2.3, 1.3, 0.3],\n",
       "        [4.4, 3.2, 1.3, 0.2],\n",
       "        [5. , 3.5, 1.6, 0.6],\n",
       "        [5.1, 3.8, 1.9, 0.4],\n",
       "        [4.8, 3. , 1.4, 0.3],\n",
       "        [5.1, 3.8, 1.6, 0.2],\n",
       "        [4.6, 3.2, 1.4, 0.2],\n",
       "        [5.3, 3.7, 1.5, 0.2],\n",
       "        [5. , 3.3, 1.4, 0.2],\n",
       "        [7. , 3.2, 4.7, 1.4],\n",
       "        [6.4, 3.2, 4.5, 1.5],\n",
       "        [6.9, 3.1, 4.9, 1.5],\n",
       "        [5.5, 2.3, 4. , 1.3],\n",
       "        [6.5, 2.8, 4.6, 1.5],\n",
       "        [5.7, 2.8, 4.5, 1.3],\n",
       "        [6.3, 3.3, 4.7, 1.6],\n",
       "        [4.9, 2.4, 3.3, 1. ],\n",
       "        [6.6, 2.9, 4.6, 1.3],\n",
       "        [5.2, 2.7, 3.9, 1.4],\n",
       "        [5. , 2. , 3.5, 1. ],\n",
       "        [5.9, 3. , 4.2, 1.5],\n",
       "        [6. , 2.2, 4. , 1. ],\n",
       "        [6.1, 2.9, 4.7, 1.4],\n",
       "        [5.6, 2.9, 3.6, 1.3],\n",
       "        [6.7, 3.1, 4.4, 1.4],\n",
       "        [5.6, 3. , 4.5, 1.5],\n",
       "        [5.8, 2.7, 4.1, 1. ],\n",
       "        [6.2, 2.2, 4.5, 1.5],\n",
       "        [5.6, 2.5, 3.9, 1.1],\n",
       "        [5.9, 3.2, 4.8, 1.8],\n",
       "        [6.1, 2.8, 4. , 1.3],\n",
       "        [6.3, 2.5, 4.9, 1.5],\n",
       "        [6.1, 2.8, 4.7, 1.2],\n",
       "        [6.4, 2.9, 4.3, 1.3],\n",
       "        [6.6, 3. , 4.4, 1.4],\n",
       "        [6.8, 2.8, 4.8, 1.4],\n",
       "        [6.7, 3. , 5. , 1.7],\n",
       "        [6. , 2.9, 4.5, 1.5],\n",
       "        [5.7, 2.6, 3.5, 1. ],\n",
       "        [5.5, 2.4, 3.8, 1.1],\n",
       "        [5.5, 2.4, 3.7, 1. ],\n",
       "        [5.8, 2.7, 3.9, 1.2],\n",
       "        [6. , 2.7, 5.1, 1.6],\n",
       "        [5.4, 3. , 4.5, 1.5],\n",
       "        [6. , 3.4, 4.5, 1.6],\n",
       "        [6.7, 3.1, 4.7, 1.5],\n",
       "        [6.3, 2.3, 4.4, 1.3],\n",
       "        [5.6, 3. , 4.1, 1.3],\n",
       "        [5.5, 2.5, 4. , 1.3],\n",
       "        [5.5, 2.6, 4.4, 1.2],\n",
       "        [6.1, 3. , 4.6, 1.4],\n",
       "        [5.8, 2.6, 4. , 1.2],\n",
       "        [5. , 2.3, 3.3, 1. ],\n",
       "        [5.6, 2.7, 4.2, 1.3],\n",
       "        [5.7, 3. , 4.2, 1.2],\n",
       "        [5.7, 2.9, 4.2, 1.3],\n",
       "        [6.2, 2.9, 4.3, 1.3],\n",
       "        [5.1, 2.5, 3. , 1.1],\n",
       "        [5.7, 2.8, 4.1, 1.3],\n",
       "        [6.3, 3.3, 6. , 2.5],\n",
       "        [5.8, 2.7, 5.1, 1.9],\n",
       "        [7.1, 3. , 5.9, 2.1],\n",
       "        [6.3, 2.9, 5.6, 1.8],\n",
       "        [6.5, 3. , 5.8, 2.2],\n",
       "        [7.6, 3. , 6.6, 2.1],\n",
       "        [4.9, 2.5, 4.5, 1.7],\n",
       "        [7.3, 2.9, 6.3, 1.8],\n",
       "        [6.7, 2.5, 5.8, 1.8],\n",
       "        [7.2, 3.6, 6.1, 2.5],\n",
       "        [6.5, 3.2, 5.1, 2. ],\n",
       "        [6.4, 2.7, 5.3, 1.9],\n",
       "        [6.8, 3. , 5.5, 2.1],\n",
       "        [5.7, 2.5, 5. , 2. ],\n",
       "        [5.8, 2.8, 5.1, 2.4],\n",
       "        [6.4, 3.2, 5.3, 2.3],\n",
       "        [6.5, 3. , 5.5, 1.8],\n",
       "        [7.7, 3.8, 6.7, 2.2],\n",
       "        [7.7, 2.6, 6.9, 2.3],\n",
       "        [6. , 2.2, 5. , 1.5],\n",
       "        [6.9, 3.2, 5.7, 2.3],\n",
       "        [5.6, 2.8, 4.9, 2. ],\n",
       "        [7.7, 2.8, 6.7, 2. ],\n",
       "        [6.3, 2.7, 4.9, 1.8],\n",
       "        [6.7, 3.3, 5.7, 2.1],\n",
       "        [7.2, 3.2, 6. , 1.8],\n",
       "        [6.2, 2.8, 4.8, 1.8],\n",
       "        [6.1, 3. , 4.9, 1.8],\n",
       "        [6.4, 2.8, 5.6, 2.1],\n",
       "        [7.2, 3. , 5.8, 1.6],\n",
       "        [7.4, 2.8, 6.1, 1.9],\n",
       "        [7.9, 3.8, 6.4, 2. ],\n",
       "        [6.4, 2.8, 5.6, 2.2],\n",
       "        [6.3, 2.8, 5.1, 1.5],\n",
       "        [6.1, 2.6, 5.6, 1.4],\n",
       "        [7.7, 3. , 6.1, 2.3],\n",
       "        [6.3, 3.4, 5.6, 2.4],\n",
       "        [6.4, 3.1, 5.5, 1.8],\n",
       "        [6. , 3. , 4.8, 1.8],\n",
       "        [6.9, 3.1, 5.4, 2.1],\n",
       "        [6.7, 3.1, 5.6, 2.4],\n",
       "        [6.9, 3.1, 5.1, 2.3],\n",
       "        [5.8, 2.7, 5.1, 1.9],\n",
       "        [6.8, 3.2, 5.9, 2.3],\n",
       "        [6.7, 3.3, 5.7, 2.5],\n",
       "        [6.7, 3. , 5.2, 2.3],\n",
       "        [6.3, 2.5, 5. , 1.9],\n",
       "        [6.5, 3. , 5.2, 2. ],\n",
       "        [6.2, 3.4, 5.4, 2.3],\n",
       "        [5.9, 3. , 5.1, 1.8]]),\n",
       " 'target': array([0, 0, 0, 0, 0, 0, 0, 0, 0, 0, 0, 0, 0, 0, 0, 0, 0, 0, 0, 0, 0, 0,\n",
       "        0, 0, 0, 0, 0, 0, 0, 0, 0, 0, 0, 0, 0, 0, 0, 0, 0, 0, 0, 0, 0, 0,\n",
       "        0, 0, 0, 0, 0, 0, 1, 1, 1, 1, 1, 1, 1, 1, 1, 1, 1, 1, 1, 1, 1, 1,\n",
       "        1, 1, 1, 1, 1, 1, 1, 1, 1, 1, 1, 1, 1, 1, 1, 1, 1, 1, 1, 1, 1, 1,\n",
       "        1, 1, 1, 1, 1, 1, 1, 1, 1, 1, 1, 1, 2, 2, 2, 2, 2, 2, 2, 2, 2, 2,\n",
       "        2, 2, 2, 2, 2, 2, 2, 2, 2, 2, 2, 2, 2, 2, 2, 2, 2, 2, 2, 2, 2, 2,\n",
       "        2, 2, 2, 2, 2, 2, 2, 2, 2, 2, 2, 2, 2, 2, 2, 2, 2, 2]),\n",
       " 'frame': None,\n",
       " 'target_names': array(['setosa', 'versicolor', 'virginica'], dtype='<U10'),\n",
       " 'DESCR': '.. _iris_dataset:\\n\\nIris plants dataset\\n--------------------\\n\\n**Data Set Characteristics:**\\n\\n    :Number of Instances: 150 (50 in each of three classes)\\n    :Number of Attributes: 4 numeric, predictive attributes and the class\\n    :Attribute Information:\\n        - sepal length in cm\\n        - sepal width in cm\\n        - petal length in cm\\n        - petal width in cm\\n        - class:\\n                - Iris-Setosa\\n                - Iris-Versicolour\\n                - Iris-Virginica\\n                \\n    :Summary Statistics:\\n\\n    ============== ==== ==== ======= ===== ====================\\n                    Min  Max   Mean    SD   Class Correlation\\n    ============== ==== ==== ======= ===== ====================\\n    sepal length:   4.3  7.9   5.84   0.83    0.7826\\n    sepal width:    2.0  4.4   3.05   0.43   -0.4194\\n    petal length:   1.0  6.9   3.76   1.76    0.9490  (high!)\\n    petal width:    0.1  2.5   1.20   0.76    0.9565  (high!)\\n    ============== ==== ==== ======= ===== ====================\\n\\n    :Missing Attribute Values: None\\n    :Class Distribution: 33.3% for each of 3 classes.\\n    :Creator: R.A. Fisher\\n    :Donor: Michael Marshall (MARSHALL%PLU@io.arc.nasa.gov)\\n    :Date: July, 1988\\n\\nThe famous Iris database, first used by Sir R.A. Fisher. The dataset is taken\\nfrom Fisher\\'s paper. Note that it\\'s the same as in R, but not as in the UCI\\nMachine Learning Repository, which has two wrong data points.\\n\\nThis is perhaps the best known database to be found in the\\npattern recognition literature.  Fisher\\'s paper is a classic in the field and\\nis referenced frequently to this day.  (See Duda & Hart, for example.)  The\\ndata set contains 3 classes of 50 instances each, where each class refers to a\\ntype of iris plant.  One class is linearly separable from the other 2; the\\nlatter are NOT linearly separable from each other.\\n\\n.. topic:: References\\n\\n   - Fisher, R.A. \"The use of multiple measurements in taxonomic problems\"\\n     Annual Eugenics, 7, Part II, 179-188 (1936); also in \"Contributions to\\n     Mathematical Statistics\" (John Wiley, NY, 1950).\\n   - Duda, R.O., & Hart, P.E. (1973) Pattern Classification and Scene Analysis.\\n     (Q327.D83) John Wiley & Sons.  ISBN 0-471-22361-1.  See page 218.\\n   - Dasarathy, B.V. (1980) \"Nosing Around the Neighborhood: A New System\\n     Structure and Classification Rule for Recognition in Partially Exposed\\n     Environments\".  IEEE Transactions on Pattern Analysis and Machine\\n     Intelligence, Vol. PAMI-2, No. 1, 67-71.\\n   - Gates, G.W. (1972) \"The Reduced Nearest Neighbor Rule\".  IEEE Transactions\\n     on Information Theory, May 1972, 431-433.\\n   - See also: 1988 MLC Proceedings, 54-64.  Cheeseman et al\"s AUTOCLASS II\\n     conceptual clustering system finds 3 classes in the data.\\n   - Many, many more ...',\n",
       " 'feature_names': ['sepal length (cm)',\n",
       "  'sepal width (cm)',\n",
       "  'petal length (cm)',\n",
       "  'petal width (cm)'],\n",
       " 'filename': 'iris.csv',\n",
       " 'data_module': 'sklearn.datasets.data'}"
      ]
     },
     "execution_count": 39,
     "metadata": {},
     "output_type": "execute_result"
    }
   ],
   "source": [
    "from sklearn import datasets\n",
    "\n",
    "data = datasets.load_iris()\n",
    "\n",
    "data"
   ]
  },
  {
   "cell_type": "code",
   "execution_count": 40,
   "id": "62a390ef",
   "metadata": {
    "slideshow": {
     "slide_type": "slide"
    }
   },
   "outputs": [],
   "source": [
    "# Podzielmy zbiór na zbiór uczący i testowy\n",
    "from sklearn.model_selection import train_test_split\n",
    "X_train, X_test, y_train, y_test = train_test_split(data['data'], data['target'], random_state=0)"
   ]
  },
  {
   "cell_type": "code",
   "execution_count": 41,
   "id": "7c12653a",
   "metadata": {
    "slideshow": {
     "slide_type": "skip"
    }
   },
   "outputs": [
    {
     "data": {
      "text/html": [
       "<style>#sk-container-id-6 {color: black;background-color: white;}#sk-container-id-6 pre{padding: 0;}#sk-container-id-6 div.sk-toggleable {background-color: white;}#sk-container-id-6 label.sk-toggleable__label {cursor: pointer;display: block;width: 100%;margin-bottom: 0;padding: 0.3em;box-sizing: border-box;text-align: center;}#sk-container-id-6 label.sk-toggleable__label-arrow:before {content: \"▸\";float: left;margin-right: 0.25em;color: #696969;}#sk-container-id-6 label.sk-toggleable__label-arrow:hover:before {color: black;}#sk-container-id-6 div.sk-estimator:hover label.sk-toggleable__label-arrow:before {color: black;}#sk-container-id-6 div.sk-toggleable__content {max-height: 0;max-width: 0;overflow: hidden;text-align: left;background-color: #f0f8ff;}#sk-container-id-6 div.sk-toggleable__content pre {margin: 0.2em;color: black;border-radius: 0.25em;background-color: #f0f8ff;}#sk-container-id-6 input.sk-toggleable__control:checked~div.sk-toggleable__content {max-height: 200px;max-width: 100%;overflow: auto;}#sk-container-id-6 input.sk-toggleable__control:checked~label.sk-toggleable__label-arrow:before {content: \"▾\";}#sk-container-id-6 div.sk-estimator input.sk-toggleable__control:checked~label.sk-toggleable__label {background-color: #d4ebff;}#sk-container-id-6 div.sk-label input.sk-toggleable__control:checked~label.sk-toggleable__label {background-color: #d4ebff;}#sk-container-id-6 input.sk-hidden--visually {border: 0;clip: rect(1px 1px 1px 1px);clip: rect(1px, 1px, 1px, 1px);height: 1px;margin: -1px;overflow: hidden;padding: 0;position: absolute;width: 1px;}#sk-container-id-6 div.sk-estimator {font-family: monospace;background-color: #f0f8ff;border: 1px dotted black;border-radius: 0.25em;box-sizing: border-box;margin-bottom: 0.5em;}#sk-container-id-6 div.sk-estimator:hover {background-color: #d4ebff;}#sk-container-id-6 div.sk-parallel-item::after {content: \"\";width: 100%;border-bottom: 1px solid gray;flex-grow: 1;}#sk-container-id-6 div.sk-label:hover label.sk-toggleable__label {background-color: #d4ebff;}#sk-container-id-6 div.sk-serial::before {content: \"\";position: absolute;border-left: 1px solid gray;box-sizing: border-box;top: 0;bottom: 0;left: 50%;z-index: 0;}#sk-container-id-6 div.sk-serial {display: flex;flex-direction: column;align-items: center;background-color: white;padding-right: 0.2em;padding-left: 0.2em;position: relative;}#sk-container-id-6 div.sk-item {position: relative;z-index: 1;}#sk-container-id-6 div.sk-parallel {display: flex;align-items: stretch;justify-content: center;background-color: white;position: relative;}#sk-container-id-6 div.sk-item::before, #sk-container-id-6 div.sk-parallel-item::before {content: \"\";position: absolute;border-left: 1px solid gray;box-sizing: border-box;top: 0;bottom: 0;left: 50%;z-index: -1;}#sk-container-id-6 div.sk-parallel-item {display: flex;flex-direction: column;z-index: 1;position: relative;background-color: white;}#sk-container-id-6 div.sk-parallel-item:first-child::after {align-self: flex-end;width: 50%;}#sk-container-id-6 div.sk-parallel-item:last-child::after {align-self: flex-start;width: 50%;}#sk-container-id-6 div.sk-parallel-item:only-child::after {width: 0;}#sk-container-id-6 div.sk-dashed-wrapped {border: 1px dashed gray;margin: 0 0.4em 0.5em 0.4em;box-sizing: border-box;padding-bottom: 0.4em;background-color: white;}#sk-container-id-6 div.sk-label label {font-family: monospace;font-weight: bold;display: inline-block;line-height: 1.2em;}#sk-container-id-6 div.sk-label-container {text-align: center;}#sk-container-id-6 div.sk-container {/* jupyter's `normalize.less` sets `[hidden] { display: none; }` but bootstrap.min.css set `[hidden] { display: none !important; }` so we also need the `!important` here to be able to override the default hidden behavior on the sphinx rendered scikit-learn.org. See: https://github.com/scikit-learn/scikit-learn/issues/21755 */display: inline-block !important;position: relative;}#sk-container-id-6 div.sk-text-repr-fallback {display: none;}</style><div id=\"sk-container-id-6\" class=\"sk-top-container\"><div class=\"sk-text-repr-fallback\"><pre>RandomForestClassifier(max_depth=3, max_leaf_nodes=2, n_estimators=1)</pre><b>In a Jupyter environment, please rerun this cell to show the HTML representation or trust the notebook. <br />On GitHub, the HTML representation is unable to render, please try loading this page with nbviewer.org.</b></div><div class=\"sk-container\" hidden><div class=\"sk-item\"><div class=\"sk-estimator sk-toggleable\"><input class=\"sk-toggleable__control sk-hidden--visually\" id=\"sk-estimator-id-6\" type=\"checkbox\" checked><label for=\"sk-estimator-id-6\" class=\"sk-toggleable__label sk-toggleable__label-arrow\">RandomForestClassifier</label><div class=\"sk-toggleable__content\"><pre>RandomForestClassifier(max_depth=3, max_leaf_nodes=2, n_estimators=1)</pre></div></div></div></div></div>"
      ],
      "text/plain": [
       "RandomForestClassifier(max_depth=3, max_leaf_nodes=2, n_estimators=1)"
      ]
     },
     "execution_count": 41,
     "metadata": {},
     "output_type": "execute_result"
    }
   ],
   "source": [
    "# Wybierzmy model i wytrenujmy go\n",
    "from sklearn.ensemble import RandomForestClassifier\n",
    "\n",
    "forest_clf = RandomForestClassifier(n_estimators=1, max_depth=3, max_leaf_nodes=2)\n",
    "forest_clf.fit(X_train, y_train)"
   ]
  },
  {
   "cell_type": "code",
   "execution_count": 42,
   "id": "ee1ba664",
   "metadata": {
    "slideshow": {
     "slide_type": "skip"
    }
   },
   "outputs": [
    {
     "name": "stdout",
     "output_type": "stream",
     "text": [
      "Accuracy of the DecisionTreeClassifier: 57.9%\n"
     ]
    }
   ],
   "source": [
    "# Sprawdźmy accuracy\n",
    "acc = forest_clf.score(X_test, y_test)\n",
    "print(f\"Accuracy of the DecisionTreeClassifier: {acc:.1%}\")"
   ]
  },
  {
   "cell_type": "markdown",
   "id": "daa9ae59",
   "metadata": {},
   "source": [
    "\"Hello world\" za nami. Teraz fajnie było porobić więcej eksperymentów, a żeby ułatwić sobie ich monitorowanie użyjmy MLflow.\n",
    "\n",
    "## Połączmy się z MLflow\n",
    "\n",
    "Aby móc wykorzystywać MLflow w naszych skryptach musimy zacząć od zaimportowania bibliotek.\n",
    "Pierwsza z nich to API do komunikacji z serwisem, a druga jest wrapperem na moduł scikit-learn."
   ]
  },
  {
   "cell_type": "code",
   "execution_count": 43,
   "id": "529b7860",
   "metadata": {
    "slideshow": {
     "slide_type": "skip"
    }
   },
   "outputs": [],
   "source": [
    "import mlflow\n",
    "import mlflow.sklearn"
   ]
  },
  {
   "cell_type": "markdown",
   "id": "1eea47be",
   "metadata": {},
   "source": [
    "Na początek podajemy adres naszego serwisu. Działamy lokalnie, więc adres to 0.0.0.0 (lub localhost, lub 127.0.0.1 - w zasadzie jedno i to samo). Defaultowy port na jakim ruszy MLflow to 5000."
   ]
  },
  {
   "cell_type": "code",
   "execution_count": 44,
   "id": "5f8c2268",
   "metadata": {
    "slideshow": {
     "slide_type": "skip"
    }
   },
   "outputs": [],
   "source": [
    "remote_server_uri = \"http://0.0.0.0:5000\"\n",
    "mlflow.set_tracking_uri(remote_server_uri)"
   ]
  },
  {
   "cell_type": "markdown",
   "id": "8a256153",
   "metadata": {},
   "source": [
    "Upewnijmy się jeszcze, czy adres został zapisany"
   ]
  },
  {
   "cell_type": "code",
   "execution_count": 45,
   "id": "baa2dd91",
   "metadata": {
    "slideshow": {
     "slide_type": "skip"
    }
   },
   "outputs": [
    {
     "data": {
      "text/plain": [
       "'http://0.0.0.0:5000'"
      ]
     },
     "execution_count": 45,
     "metadata": {},
     "output_type": "execute_result"
    }
   ],
   "source": [
    "mlflow.tracking.get_tracking_uri()"
   ]
  },
  {
   "cell_type": "markdown",
   "id": "8b74869e",
   "metadata": {},
   "source": [
    "## Tworzenie eksperymentu\n",
    "Nasz skrypt wie już, gdzie może znaleźć serwis. Zatem stwórzmy eksperyment o nazwie \"iris\". W nim zapisywane będą wyniki kolejnych runów. "
   ]
  },
  {
   "cell_type": "code",
   "execution_count": 46,
   "id": "cb58261f",
   "metadata": {
    "slideshow": {
     "slide_type": "skip"
    }
   },
   "outputs": [],
   "source": [
    "from mlflow.exceptions import RestException\n",
    "\n",
    "try:\n",
    "    exp_name = \"iris\"\n",
    "    mlflow.create_experiment(exp_name)\n",
    "except RestException:\n",
    "    print('Experiment {} already exists!'.format(exp_name))"
   ]
  },
  {
   "cell_type": "markdown",
   "id": "57bfd235",
   "metadata": {},
   "source": [
    "Po tym kroku eksperyment powinien być widoczny jak poniżej.\n",
    "![](img/3.png)\n",
    "\n",
    "\n",
    "## Śledzenie runów\n",
    "Mając utworzony eksperyment, możemy zacząć trenować modele i zapisywać rezultaty. Zacznijmy od zapisania accuracy naszego modelu.\n",
    "\n",
    "Na początek musimy wyspecyfikować eksperyment, który będziemy wykonywać - set_experiment(\"iris\").\n",
    "\n",
    "Dalej uruchamiany run - w założeniu jeden run to jeden trening i jeden test modelu. Runy nie muszą się różnić, ale dążymy do tego, żeby każdy run odnosił się np. do innego datasetu, innych hiperparametrów modelu, czy zupełnie innej metody uczenia. Do wystartowania runu używamy metody sart_run(). Uruchamiamy ją w ramach managera kontekstu (context manager), aby mieć pewność, że w razie problemów wszystkie procesy związane z MLflow zostaną domknięte.\n",
    "\n",
    "Dalej podobnie jak w przypadku naszego \"hello world\" pobieramy dataset, dzielimy go i trenujemy model"
   ]
  },
  {
   "cell_type": "code",
   "execution_count": 47,
   "id": "9287a83a",
   "metadata": {},
   "outputs": [
    {
     "name": "stdout",
     "output_type": "stream",
     "text": [
      "Run: d7853efb6371415ab1ad87e09fbf742a\n",
      "Accuracy: 89.5%\n"
     ]
    }
   ],
   "source": [
    "mlflow.set_experiment(exp_name) \n",
    "with mlflow.start_run() as run:\n",
    "    print(\"Run: {}\".format(run.info.run_id))\n",
    "\n",
    "    data = datasets.load_iris()\n",
    "    X_train, X_test, y_train, y_test = train_test_split(data['data'], data['target'], random_state=0)\n",
    "\n",
    "    forest_clf = RandomForestClassifier(n_estimators=5, max_depth=3, max_leaf_nodes=4)\n",
    "    forest_clf.fit(X_train, y_train)\n",
    "\n",
    "    acc = forest_clf.score(X_test, y_test)\n",
    "\n",
    "    print(f\"Accuracy: {acc:.1%}\")\n"
   ]
  },
  {
   "cell_type": "markdown",
   "id": "cc0e6197",
   "metadata": {},
   "source": [
    "Po uruchomieniu tego kodu nasz run zostaje zapisany w ramach eksperymentu \"iris\". Ma on swoją nazwę, informacje o czasie trwania i czasie utworzenia, ale poza tym niewiele się dzieje.\n",
    "![](img/4.png)\n",
    "![](img/5.png)\n",
    "\n",
    "\n",
    "## Logowanie parametrów i wyników modeli\n",
    "\"Hello MLflow\" za nami. Przejdźmy do zapisywania informacji o kolejnych runach. W mlflow możemy zapisywać parametry modeli, ich rezultaty (accuracy, precision, recall itd.), inne artefakty (kod źródłowy, wykresy, zbiory danych - w zasadzie cokolwiek).\n",
    "\n",
    "Poniżej wytrenujemy model i zapiszemy jego parametry, i wynik accuracy na naszym zbiorze testowym.\n",
    "Dzięki metodzie log_params(), przyjmującej jako argument słownik z parametrami, zapiszemy hiperparametry tego modelu, a dalej przy użyciu log_metric zapiszemy wartość jego accuracy."
   ]
  },
  {
   "cell_type": "code",
   "execution_count": 48,
   "id": "aec15415",
   "metadata": {
    "slideshow": {
     "slide_type": "skip"
    }
   },
   "outputs": [
    {
     "name": "stdout",
     "output_type": "stream",
     "text": [
      "Run: a318c35ee93d4d2183a42ca3a1c1cc2c\n",
      "Accuracy: 89.5%\n"
     ]
    }
   ],
   "source": [
    "mlflow.set_experiment(exp_name)\n",
    "with mlflow.start_run() as run:\n",
    "    print(\"Run: {}\".format(run.info.run_id))\n",
    "    n_estimators = 3\n",
    "    max_depth = 3\n",
    "    max_leaf_nodes = 2\n",
    "    \n",
    "    mlflow.log_params( \n",
    "        {\"n_estimators\": n_estimators,\n",
    "         \"max_depth\": max_depth, \n",
    "         \"max_leaf_nodes\": max_leaf_nodes}\n",
    "    )\n",
    "    \n",
    "    data = datasets.load_iris()\n",
    "    X_train, X_test, y_train, y_test = train_test_split(data['data'], data['target'], random_state=0)\n",
    "    \n",
    "    \n",
    "    forest_clf = RandomForestClassifier(\n",
    "        n_estimators=n_estimators, \n",
    "        max_depth=max_depth, \n",
    "        max_leaf_nodes=max_leaf_nodes)\n",
    "    \n",
    "    forest_clf.fit(X_train, y_train)\n",
    "\n",
    "    acc = forest_clf.score(X_test, y_test)\n",
    "    mlflow.log_metric(\"test_acc\", acc) \n",
    "    print(f\"Accuracy: {acc:.1%}\")\n",
    "\n"
   ]
  },
  {
   "cell_type": "markdown",
   "id": "08e23314",
   "metadata": {},
   "source": [
    "Eksperyment się wykonał i podstawowe dane wyświetlone są na stronie głównej. Dzięki temu możemy dokonać podstawowej analizy naszych modeli filtrując je po którejś z kolumn.\n",
    "![](img/6.png)\n",
    "\n",
    "Podobnie są one widoczne dalej po wejściu w run.\n",
    "![](img/7.png)\n",
    "\n",
    "\n",
    "## Artefakty\n",
    "W ramach runu możemy zapisywać dowolne obiekty powiązane z naszymi badaniami. Do tego wykorzystujemy metodę log_artifact. Pozwala ona na zapisanie dowolnego pliku, do którego ścieżkę podamy. Poniżej zapiszemy jako artefakt ten notebook, oraz jakiś przypadkowy wykres - wyobraźmy sobie, że jest dla nas superważny :) \n",
    "\n",
    "UWAGA aby plik dało się zapisać jako artefakt, musi on znajdować się w systemie plików. Dlatego poniższy wykres najpierw zapisujemy jako \"figure.png\" i dopiero następnie logujemy jako artefakt.\n"
   ]
  },
  {
   "cell_type": "code",
   "execution_count": 49,
   "id": "f181b77d",
   "metadata": {},
   "outputs": [
    {
     "name": "stdout",
     "output_type": "stream",
     "text": [
      "Run: 3fef46305b1b425f9dbb9ad5a1d26537\n",
      "Accuracy: 94.7%\n"
     ]
    },
    {
     "data": {
      "image/png": "[encoded data removed]",
      "text/plain": [
       "<Figure size 640x480 with 1 Axes>"
      ]
     },
     "metadata": {},
     "output_type": "display_data"
    }
   ],
   "source": [
    "import matplotlib.pyplot as plt\n",
    "\n",
    "mlflow.set_experiment(exp_name)\n",
    "with mlflow.start_run() as run:\n",
    "    print(\"Run: {}\".format(run.info.run_id))\n",
    "    n_estimators = 3\n",
    "    max_depth = 3\n",
    "    max_leaf_nodes = 2\n",
    "    \n",
    "    mlflow.log_params( \n",
    "        {\"n_estimators\": n_estimators,\n",
    "         \"max_depth\": max_depth, \n",
    "         \"max_leaf_nodes\": max_leaf_nodes}\n",
    "    )\n",
    "    \n",
    "    data = datasets.load_iris()\n",
    "\n",
    "    X_train, X_test, y_train, y_test = train_test_split(data['data'], data['target'], random_state=0)\n",
    "        \n",
    "    \n",
    "    forest_clf = RandomForestClassifier(\n",
    "        n_estimators=n_estimators, \n",
    "        max_depth=max_depth, \n",
    "        max_leaf_nodes=max_leaf_nodes)\n",
    "    \n",
    "    forest_clf.fit(X_train, y_train)\n",
    "\n",
    "    acc = forest_clf.score(X_test, y_test)\n",
    "    mlflow.log_metric(\"test_acc\", acc)\n",
    "    \n",
    "    mlflow.log_artifact(\"MLflow@skni.ipynb\")\n",
    "    print(f\"Accuracy: {acc:.1%}\")\n",
    "\n",
    "    plt.plot(data['data'][:,0], data['data'][:,1], 'o')\n",
    "    plt.savefig(\"figure.png\")\n",
    "    mlflow.log_artifact(\"figure.png\")\n"
   ]
  },
  {
   "cell_type": "markdown",
   "id": "a81e1afc",
   "metadata": {},
   "source": [
    "Po wejściu w run widać nasze pierwsze artefekaty - kopię notebooka i wykres.\n",
    "![](img/8.png)\n"
   ]
  },
  {
   "cell_type": "markdown",
   "id": "3fccea29",
   "metadata": {},
   "source": [
    "## Modele \n",
    "Co jeszcze warto zapisywać? Oczywiście modele. Dzięki śledzeniu poprzednich kroków nie mielibyśmy problemu z odtworzeniem modelu z dowolnego runa, ale po co dwa razy robić to samo. Zapiszmy do zatem.\n",
    "\n",
    "W przeciwieństwie do artefaktów, modeli nie musimy najpierw zapisywać w systemie plików. Wystarczy wywołać metodę log_model(), w której poodajemy obiekt modelu (tutaj forest_clf) i nazwę pod jaką chcemy go ukryć."
   ]
  },
  {
   "cell_type": "code",
   "execution_count": 50,
   "id": "2d853a97",
   "metadata": {},
   "outputs": [
    {
     "name": "stdout",
     "output_type": "stream",
     "text": [
      "Run: 5e1413403e814121aaeab766ebf96866\n",
      "Accuracy: 97.4%\n"
     ]
    },
    {
     "data": {
      "image/png": "[encoded data removed]",
      "text/plain": [
       "<Figure size 640x480 with 1 Axes>"
      ]
     },
     "metadata": {},
     "output_type": "display_data"
    }
   ],
   "source": [
    "import matplotlib.pyplot as plt\n",
    "\n",
    "mlflow.set_experiment(exp_name)\n",
    "with mlflow.start_run() as run:\n",
    "    print(\"Run: {}\".format(run.info.run_id))\n",
    "    n_estimators = 10\n",
    "    max_depth = 20\n",
    "    max_leaf_nodes = 10\n",
    "    \n",
    "    mlflow.log_params( \n",
    "        {\"n_estimators\": n_estimators,\n",
    "         \"max_depth\": max_depth, \n",
    "         \"max_leaf_nodes\": max_leaf_nodes}\n",
    "    )\n",
    "    \n",
    "    data = datasets.load_iris()\n",
    "\n",
    "    X_train, X_test, y_train, y_test = train_test_split(data['data'], data['target'], random_state=0)\n",
    "        \n",
    "    \n",
    "    forest_clf = RandomForestClassifier(\n",
    "        n_estimators=n_estimators, \n",
    "        max_depth=max_depth, \n",
    "        max_leaf_nodes=max_leaf_nodes)\n",
    "    \n",
    "    forest_clf.fit(X_train, y_train)\n",
    "\n",
    "    acc = forest_clf.score(X_test, y_test)\n",
    "    mlflow.log_metric(\"test_acc\", acc)\n",
    "    \n",
    "    mlflow.log_artifact(\"MLflow@skni.ipynb\")\n",
    "    print(f\"Accuracy: {acc:.1%}\")\n",
    "\n",
    "    plt.plot(data['data'][:,0], data['data'][:,1], 'o')\n",
    "    plt.savefig(\"figure.png\")\n",
    "    mlflow.log_artifact(\"figure.png\")\n",
    "\n",
    "    mlflow.sklearn.log_model(forest_clf, \"forest_clf_model\")\n"
   ]
  },
  {
   "cell_type": "markdown",
   "id": "81777029",
   "metadata": {},
   "source": [
    "Po zapisaniu modelu widoczny jest on już na stronie głównej.\n",
    "![](img/9.png)\n",
    "\n",
    "\n",
    "A więcej informacji znajdziemy w sekcji \"Artifacts\". Poza samym modelem zapisane zostają także pewne metadane na jego temat, takie jak biblioteki wykorzystane do jego utworzenia i zapisania.\n",
    "\n",
    "![](img/10.png)\n",
    "\n",
    "\n",
    "## Model schema\n",
    "Zapisując model możemy także zapisać informacje o tym jakie są jego dane wejściowe i wyjściowe - jest to szczególnie potrzebne jeśli chcemy wykonać deploy modelu z poziomu MLflow. Używamy do tego klasy Schema, której podajemy nazwy danych jakie może przyjmować model wraz z ich typami danych. Tak utworzone obiekty dla wejścia i wyjścia modelu zamykamy w ramach obiektu \"ModelSignature\", który podajemy w metodzie log_model.\n"
   ]
  },
  {
   "cell_type": "code",
   "execution_count": 51,
   "id": "a1a69b78",
   "metadata": {},
   "outputs": [],
   "source": [
    "from mlflow.models.signature import ModelSignature\n",
    "from mlflow.types.schema import Schema, ColSpec\n",
    "\n",
    "input_schema = Schema([\n",
    "  ColSpec(\"float\", \"sepal length (cm)\"),\n",
    "  ColSpec(\"float\", \"sepal width (cm)\"),\n",
    "  ColSpec(\"float\", \"petal length (cm)\"),\n",
    "  ColSpec(\"float\", \"petal width (cm)\"),\n",
    "\n",
    "])\n",
    "output_schema = Schema([ColSpec(\"integer\")])\n",
    "\n",
    "signature = ModelSignature(inputs=input_schema, outputs=output_schema)\n"
   ]
  },
  {
   "cell_type": "code",
   "execution_count": 52,
   "id": "90a56e7f",
   "metadata": {},
   "outputs": [
    {
     "name": "stdout",
     "output_type": "stream",
     "text": [
      "Run: bf519a69062d4da0a15e24d29d505337\n",
      "Accuracy: 97.4%\n"
     ]
    },
    {
     "data": {
      "image/png": "[encoded data removed]",
      "text/plain": [
       "<Figure size 640x480 with 1 Axes>"
      ]
     },
     "metadata": {},
     "output_type": "display_data"
    }
   ],
   "source": [
    "import matplotlib.pyplot as plt\n",
    "\n",
    "mlflow.set_experiment(exp_name)\n",
    "with mlflow.start_run() as run:\n",
    "    print(\"Run: {}\".format(run.info.run_id))\n",
    "    n_estimators = 3\n",
    "    max_depth = 3\n",
    "    max_leaf_nodes = 2\n",
    "    \n",
    "    mlflow.log_params( \n",
    "        {\"n_estimators\": n_estimators,\n",
    "         \"max_depth\": max_depth, \n",
    "         \"max_leaf_nodes\": max_leaf_nodes}\n",
    "    )\n",
    "    \n",
    "    data = datasets.load_iris()\n",
    "\n",
    "    X_train, X_test, y_train, y_test = train_test_split(data['data'], data['target'], random_state=0)\n",
    "        \n",
    "    \n",
    "    forest_clf = RandomForestClassifier(\n",
    "        n_estimators=n_estimators, \n",
    "        max_depth=max_depth, \n",
    "        max_leaf_nodes=max_leaf_nodes)\n",
    "    \n",
    "    forest_clf.fit(X_train, y_train)\n",
    "\n",
    "    acc = forest_clf.score(X_test, y_test)\n",
    "    mlflow.log_metric(\"test_acc\", acc)\n",
    "    \n",
    "    mlflow.log_artifact(\"MLflow@skni.ipynb\")\n",
    "    print(f\"Accuracy: {acc:.1%}\")\n",
    "\n",
    "    plt.plot(data['data'][:,0], data['data'][:,1], 'o')\n",
    "    plt.savefig(\"figure.png\")\n",
    "    mlflow.log_artifact(\"figure.png\")\n",
    "\n",
    "    mlflow.sklearn.log_model(forest_clf, \"forest_clf_model\", signature=signature)\n"
   ]
  },
  {
   "cell_type": "markdown",
   "id": "bd8f0738",
   "metadata": {},
   "source": [
    "Informacje o \"schemacie\" modelu zapisane zostają jako metadane modelu.\n",
    "![](img/11.png)\n",
    "\n",
    "\n",
    "## Wiele eksperymentów\n",
    "Wiedząc już jak budować eksperymenty, logować parametry, wartości metryk i same modele przejdźmy do \"masowego\" eksperymentowania. Załóżmy, że chcemy przetestować jak nasza wybrana metoda poradzi sobie w zależności od pewnych hiperparametrów. Żeby przeprowadzić taki eksperyment musimy przygotować strukturę danych, w której te hiperparametry umieścimy.\n",
    "\n",
    "Zaczynamy od zbudowania listy, która zawiera listy hiperparametrów. Przechodzimy przez każdą z nich, trenujmy model zgodnie z parametrami jakie w każdej z nich się znajdują i zapisujemy wszystkie dane tak jak robiliśmy wcześniej. Dzięki temu zautomatyzowaliśmy proces wykonywania wielu runów."
   ]
  },
  {
   "cell_type": "code",
   "execution_count": 53,
   "id": "e1c733b6",
   "metadata": {},
   "outputs": [
    {
     "name": "stdout",
     "output_type": "stream",
     "text": [
      "Run: 6e3b9b20697b44a1bfdbe50f68bfb2de\n",
      "Accuracy: 97.4%\n",
      "Run: c5a697b6f1f54a19abf5cc47a097a1c7\n",
      "Accuracy: 97.4%\n",
      "Run: 0aab8de8a4bb47a087d91c710a078f10\n",
      "Accuracy: 97.4%\n"
     ]
    },
    {
     "data": {
      "image/png": "[encoded data removed]",
      "text/plain": [
       "<Figure size 640x480 with 1 Axes>"
      ]
     },
     "metadata": {},
     "output_type": "display_data"
    }
   ],
   "source": [
    "list_of_params = [[3, 3, 3],\n",
    "                 [4, 4, 4],\n",
    "                 [5, 5, 6]]\n",
    "mlflow.set_experiment(exp_name)\n",
    "for params in list_of_params:\n",
    "\n",
    "    with mlflow.start_run() as run:\n",
    "        \n",
    "        print(\"Run: {}\".format(run.info.run_id))\n",
    "        n_estimators = params[0]\n",
    "        max_depth = params[1]\n",
    "        max_leaf_nodes = params[2]\n",
    "\n",
    "        mlflow.log_params( \n",
    "            {\"n_estimators\": n_estimators,\n",
    "             \"max_depth\": max_depth, \n",
    "             \"max_leaf_nodes\": max_leaf_nodes}\n",
    "        )\n",
    "\n",
    "        data = datasets.load_iris()\n",
    "\n",
    "        X_train, X_test, y_train, y_test = train_test_split(data['data'], data['target'], random_state=0)\n",
    "\n",
    "\n",
    "        forest_clf = RandomForestClassifier(\n",
    "            n_estimators=n_estimators, \n",
    "            max_depth=max_depth, \n",
    "            max_leaf_nodes=max_leaf_nodes)\n",
    "\n",
    "        forest_clf.fit(X_train, y_train)\n",
    "\n",
    "        acc = forest_clf.score(X_test, y_test)\n",
    "        mlflow.log_metric(\"test_acc\", acc)\n",
    "\n",
    "        mlflow.log_artifact(\"MLflow@skni.ipynb\")\n",
    "        print(f\"Accuracy: {acc:.1%}\")\n",
    "\n",
    "        plt.plot(data['data'][:,0], data['data'][:,1], 'o')\n",
    "        plt.savefig(\"figure.png\")\n",
    "        mlflow.log_artifact(\"figure.png\")\n",
    "\n",
    "        mlflow.sklearn.log_model(forest_clf, \"forest_clf_model\", signature=signature)"
   ]
  },
  {
   "cell_type": "markdown",
   "id": "7b0db6ce",
   "metadata": {},
   "source": [
    "Jak widać nasze trzy modele zostały wytrenowane. \n",
    "![](img/12.png)\n",
    "Możemy teraz dokonać ich analizy zaznaczając wszystkie runy i przechodząc do compare. \n",
    "\n",
    "![](img/13.png)\n",
    "Tam możemy zwizualizować rezultaty i przeanalizowąć wykonany eskperyment.\n",
    "\n",
    "![](img/14.png)\n",
    "\n",
    "\n",
    "\n",
    "\n",
    "## Pobieranie modelu do predykcji\n",
    "Zrobiliśmy analizę, teraz chcemy dokonać predykcji. Aby wyciągnąć model z MLflow wystarczy użyć metody mlflow.sklearn.load_model(), której podajemy ścieżkę do naszego modelu. Podajemy  w niej \"Run ID\" runa, z którego chcemy wyciągnąć model, oraz nazwę, pod którą go zapisaliśmy. Dalej możemy dokonać predykcji w oparciu o metodę predict dokładnie tak jak robi się to w bibliotece scikit-learn."
   ]
  },
  {
   "cell_type": "code",
   "execution_count": 55,
   "id": "86a898c2",
   "metadata": {},
   "outputs": [
    {
     "data": {
      "text/plain": [
       "array([1, 1, 1])"
      ]
     },
     "execution_count": 55,
     "metadata": {},
     "output_type": "execute_result"
    }
   ],
   "source": [
    "logged_model = 'runs:/0aab8de8a4bb47a087d91c710a078f10/forest_clf_model'\n",
    "loaded_model = mlflow.sklearn.load_model(logged_model)\n",
    "loaded_model.predict([[1.1, 2.3, 2.3, 2.3],\n",
    "                     [0.1, 0.3, 0.3, 1.3],\n",
    "                     [1.7, 1.9, 4.3, 3.3]])"
   ]
  },
  {
   "cell_type": "markdown",
   "id": "7659154d",
   "metadata": {},
   "source": [
    "# Deploy\n",
    "## UWAGA\n",
    "Do tego potrzebujemy postawionej bazy danych, zatem traktujemy to jako dodatek.\n",
    "\n",
    "MLflow pozwala nam na deploy modelu, dzięki czemu nie musimy bawić się w budowanie dodatkowego serwisu do jego serwowania. Do zrobienia tego musimy najpierw utworzyć rejestr (create_registered_model), w którym będą trzymane kolejne wersje modeli, a następne zapisać w nim model z wybranego runa (register_model).\n"
   ]
  },
  {
   "cell_type": "code",
   "execution_count": 56,
   "id": "69cbf6b3",
   "metadata": {},
   "outputs": [],
   "source": [
    "import mlflow\n",
    "\n",
    "remote_server_uri = \"http://0.0.0.0:5000\"\n",
    "mlflow.set_tracking_uri(remote_server_uri)"
   ]
  },
  {
   "cell_type": "code",
   "execution_count": 57,
   "id": "0c3a5a85",
   "metadata": {},
   "outputs": [
    {
     "name": "stdout",
     "output_type": "stream",
     "text": [
      "<RegisteredModel: creation_timestamp=1672319771139, description='', last_updated_timestamp=1672319771139, latest_versions=[], name='iris_clf', tags={}>\n"
     ]
    }
   ],
   "source": [
    "from mlflow.tracking import MlflowClient\n",
    "from mlflow.exceptions import RestException\n",
    "\n",
    "model_name = \"iris_clf\"\n",
    "\n",
    "client = MlflowClient()\n",
    "try:\n",
    "    registered_model = client.create_registered_model(model_name)\n",
    "    print(registered_model)\n",
    "except RestException:\n",
    "    print('Model {} already exists!'.format(exp_name))"
   ]
  },
  {
   "cell_type": "code",
   "execution_count": 58,
   "id": "3f722e66",
   "metadata": {},
   "outputs": [
    {
     "name": "stderr",
     "output_type": "stream",
     "text": [
      "Registered model 'iris_clf' already exists. Creating a new version of this model...\n",
      "2022/12/29 14:16:12 INFO mlflow.tracking._model_registry.client: Waiting up to 300 seconds for model version to finish creation.                     Model name: iris_clf, version 1\n",
      "Created version '1' of model 'iris_clf'.\n"
     ]
    }
   ],
   "source": [
    "run_id = \"0aab8de8a4bb47a087d91c710a078f10\"\n",
    "\n",
    "result = mlflow.register_model(\n",
    "    f\"runs:/{run_id}/forest_clf_model\",\n",
    "    f\"{model_name}\"\n",
    ")"
   ]
  },
  {
   "cell_type": "markdown",
   "id": "1a23eff8",
   "metadata": {},
   "source": [
    "Rejestr został utworzony:\n",
    "![](img/15.png)\n",
    "\n",
    "A w nim znajduje się nasz model gotowy do deployu.\n",
    "![](img/16.png)\n",
    "\n",
    "Teraz możemy uruchomić quasi-serwis, dzięki któremu przez żądania HTTP będziemy dokonywać predykcji (np. w aplikacji webowej, którą możemy dobudować).\n",
    "\n",
    "Aby uruchomić taki serwis w konsoli uruchamiamy komendę:\n",
    "\n",
    "MLFLOW_TRACKING_URI=http://localhost:5000 mlflow models serve --env-manager=local -m \"models:/iris_clf/1\" -p 4242\n",
    "\n",
    "w której podajemy nazwę rejestru z jakiego chcemy zaserwować model, wersję modelu, oraz port pod jakim model będzie lokalnie dostępny.\n",
    "\n",
    "![](img/17.png)\n",
    "\n",
    "Dalej możemy wysłać żądanie HTTP pod adres na jakim model się znajduje i dokonać predykcji.\n"
   ]
  },
  {
   "cell_type": "code",
   "execution_count": 59,
   "id": "4743f38d",
   "metadata": {},
   "outputs": [
    {
     "name": "stdout",
     "output_type": "stream",
     "text": [
      "b'{\"predictions\": [1]}'\n"
     ]
    }
   ],
   "source": [
    "import json\n",
    "import requests\n",
    "from requests.structures import CaseInsensitiveDict\n",
    "\n",
    "url = \"http://127.0.0.1:4242/invocations\"\n",
    "\n",
    "\n",
    "headers = CaseInsensitiveDict()\n",
    "headers[\"Content-Type\"] = \"application/json\"\n",
    "\n",
    "data = {\"instances\": [\n",
    "        {\"sepal length (cm)\": 1.1, \"sepal width (cm)\": 1.1, \"petal length (cm)\": 1.1, \"petal width (cm)\": 1.2}\n",
    "    ]\n",
    "    }\n",
    "\n",
    "response = requests.post(url, headers=headers, data=json.dumps(data))\n",
    "print(response.content)"
   ]
  },
  {
   "cell_type": "code",
   "execution_count": null,
   "id": "579a362f",
   "metadata": {},
   "outputs": [],
   "source": []
  }
 ],
 "metadata": {
  "kernelspec": {
   "display_name": "Python 3 (ipykernel)",
   "language": "python",
   "name": "python3"
  },
  "language_info": {
   "codemirror_mode": {
    "name": "ipython",
    "version": 3
   },
   "file_extension": ".py",
   "mimetype": "text/x-python",
   "name": "python",
   "nbconvert_exporter": "python",
   "pygments_lexer": "ipython3",
   "version": "3.10.6"
  }
 },
 "nbformat": 4,
 "nbformat_minor": 5
}
